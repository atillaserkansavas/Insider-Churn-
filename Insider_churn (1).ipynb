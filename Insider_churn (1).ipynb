{
 "cells": [
  {
   "cell_type": "code",
   "execution_count": 1,
   "metadata": {},
   "outputs": [],
   "source": [
    "import pandas as pd \n",
    "import numpy as np\n",
    "import seaborn as sns \n",
    "from sklearn.model_selection import train_test_split, GridSearchCV\n",
    "from sklearn.neural_network import MLPClassifier\n",
    "from sklearn.metrics import accuracy_score\n",
    "from xgboost import XGBClassifier\n",
    "from warnings import filterwarnings\n",
    "filterwarnings(\"ignore\")\n",
    "import parquet\n",
    "from fastparquet import write, ParquetFile\n",
    "import matplotlib.pyplot as plt \n",
    "from lightgbm import LGBMClassifier\n",
    "from sklearn.ensemble import RandomForestClassifier\n"
   ]
  },
  {
   "cell_type": "code",
   "execution_count": 2,
   "metadata": {},
   "outputs": [],
   "source": [
    "train = pd.read_parquet(\"training.snappy.parquet\")\n",
    "test = pd.read_parquet(\"test.snappy.parquet\")\n",
    "test = test[[\"date\",\"referrer_url\",\"current_url\",\"page_type\",\"product_price\",\"cart_amount\",\n",
    "            \"userid\",\"sessionid\",\"search_words\",\"old_product_price\",\"product_category\",\"page_category\",\"productid\"]]"
   ]
  },
  {
   "cell_type": "code",
   "execution_count": 3,
   "metadata": {},
   "outputs": [
    {
     "data": {
      "text/html": [
       "<div>\n",
       "<style scoped>\n",
       "    .dataframe tbody tr th:only-of-type {\n",
       "        vertical-align: middle;\n",
       "    }\n",
       "\n",
       "    .dataframe tbody tr th {\n",
       "        vertical-align: top;\n",
       "    }\n",
       "\n",
       "    .dataframe thead th {\n",
       "        text-align: right;\n",
       "    }\n",
       "</style>\n",
       "<table border=\"1\" class=\"dataframe\">\n",
       "  <thead>\n",
       "    <tr style=\"text-align: right;\">\n",
       "      <th></th>\n",
       "      <th>date</th>\n",
       "      <th>referrer_url</th>\n",
       "      <th>current_url</th>\n",
       "      <th>page_type</th>\n",
       "      <th>product_price</th>\n",
       "      <th>cart_amount</th>\n",
       "      <th>userid</th>\n",
       "      <th>sessionid</th>\n",
       "      <th>search_words</th>\n",
       "      <th>old_product_price</th>\n",
       "      <th>product_category</th>\n",
       "      <th>page_category</th>\n",
       "      <th>productid</th>\n",
       "    </tr>\n",
       "  </thead>\n",
       "  <tbody>\n",
       "    <tr>\n",
       "      <th>0</th>\n",
       "      <td>2020-02-06 09:11:12</td>\n",
       "      <td>9d206cbddfddaa97c20690adcd6ea802</td>\n",
       "      <td>006bde08100ccffb2fa8884e700a49f8</td>\n",
       "      <td>category</td>\n",
       "      <td>NaN</td>\n",
       "      <td>0.0</td>\n",
       "      <td>3649149be6ac6b2ded1ae8e5778e3f40</td>\n",
       "      <td>f67ed2ac99c1074b9f19cfe250db7f66</td>\n",
       "      <td>None</td>\n",
       "      <td>NaN</td>\n",
       "      <td>None</td>\n",
       "      <td>[6408EC06126E8040270C7E8AAF8FC685]</td>\n",
       "      <td>None</td>\n",
       "    </tr>\n",
       "    <tr>\n",
       "      <th>1</th>\n",
       "      <td>2020-02-06 09:31:58</td>\n",
       "      <td>9d206cbddfddaa97c20690adcd6ea802</td>\n",
       "      <td>0da33cc234a95c72475b08138062184f</td>\n",
       "      <td>category</td>\n",
       "      <td>NaN</td>\n",
       "      <td>0.0</td>\n",
       "      <td>4972b982adf86f4f2949208f780bc7fa</td>\n",
       "      <td>726c29cc12d35d7d1bd6b9807ef80d02</td>\n",
       "      <td>None</td>\n",
       "      <td>NaN</td>\n",
       "      <td>None</td>\n",
       "      <td>[4B6DE4B085D3099FF02A6E1BCDC5D80A]</td>\n",
       "      <td>None</td>\n",
       "    </tr>\n",
       "    <tr>\n",
       "      <th>2</th>\n",
       "      <td>2020-02-06 09:06:52</td>\n",
       "      <td>d41d8cd98f00b204e9800998ecf8427e</td>\n",
       "      <td>9d206cbddfddaa97c20690adcd6ea802</td>\n",
       "      <td>main</td>\n",
       "      <td>NaN</td>\n",
       "      <td>0.0</td>\n",
       "      <td>933513a2ab574affb218ec782411efe4</td>\n",
       "      <td>7f363cc0d075b82cd23cf9894b51a76b</td>\n",
       "      <td>None</td>\n",
       "      <td>NaN</td>\n",
       "      <td>None</td>\n",
       "      <td>None</td>\n",
       "      <td>None</td>\n",
       "    </tr>\n",
       "  </tbody>\n",
       "</table>\n",
       "</div>"
      ],
      "text/plain": [
       "                  date                      referrer_url  \\\n",
       "0  2020-02-06 09:11:12  9d206cbddfddaa97c20690adcd6ea802   \n",
       "1  2020-02-06 09:31:58  9d206cbddfddaa97c20690adcd6ea802   \n",
       "2  2020-02-06 09:06:52  d41d8cd98f00b204e9800998ecf8427e   \n",
       "\n",
       "                        current_url page_type  product_price  cart_amount  \\\n",
       "0  006bde08100ccffb2fa8884e700a49f8  category            NaN          0.0   \n",
       "1  0da33cc234a95c72475b08138062184f  category            NaN          0.0   \n",
       "2  9d206cbddfddaa97c20690adcd6ea802      main            NaN          0.0   \n",
       "\n",
       "                             userid                         sessionid  \\\n",
       "0  3649149be6ac6b2ded1ae8e5778e3f40  f67ed2ac99c1074b9f19cfe250db7f66   \n",
       "1  4972b982adf86f4f2949208f780bc7fa  726c29cc12d35d7d1bd6b9807ef80d02   \n",
       "2  933513a2ab574affb218ec782411efe4  7f363cc0d075b82cd23cf9894b51a76b   \n",
       "\n",
       "  search_words  old_product_price product_category  \\\n",
       "0         None                NaN             None   \n",
       "1         None                NaN             None   \n",
       "2         None                NaN             None   \n",
       "\n",
       "                        page_category productid  \n",
       "0  [6408EC06126E8040270C7E8AAF8FC685]      None  \n",
       "1  [4B6DE4B085D3099FF02A6E1BCDC5D80A]      None  \n",
       "2                                None      None  "
      ]
     },
     "execution_count": 3,
     "metadata": {},
     "output_type": "execute_result"
    }
   ],
   "source": [
    "train.head(3)"
   ]
  },
  {
   "cell_type": "code",
   "execution_count": 4,
   "metadata": {},
   "outputs": [
    {
     "data": {
      "text/html": [
       "<div>\n",
       "<style scoped>\n",
       "    .dataframe tbody tr th:only-of-type {\n",
       "        vertical-align: middle;\n",
       "    }\n",
       "\n",
       "    .dataframe tbody tr th {\n",
       "        vertical-align: top;\n",
       "    }\n",
       "\n",
       "    .dataframe thead th {\n",
       "        text-align: right;\n",
       "    }\n",
       "</style>\n",
       "<table border=\"1\" class=\"dataframe\">\n",
       "  <thead>\n",
       "    <tr style=\"text-align: right;\">\n",
       "      <th></th>\n",
       "      <th>date</th>\n",
       "      <th>referrer_url</th>\n",
       "      <th>current_url</th>\n",
       "      <th>page_type</th>\n",
       "      <th>product_price</th>\n",
       "      <th>cart_amount</th>\n",
       "      <th>userid</th>\n",
       "      <th>sessionid</th>\n",
       "      <th>search_words</th>\n",
       "      <th>old_product_price</th>\n",
       "      <th>product_category</th>\n",
       "      <th>page_category</th>\n",
       "      <th>productid</th>\n",
       "    </tr>\n",
       "  </thead>\n",
       "  <tbody>\n",
       "    <tr>\n",
       "      <th>0</th>\n",
       "      <td>2020-03-21 02:03:50</td>\n",
       "      <td>fb79c9fb058c55d599b2c67a9cfe8d48</td>\n",
       "      <td>9d206cbddfddaa97c20690adcd6ea802</td>\n",
       "      <td>main</td>\n",
       "      <td>NaN</td>\n",
       "      <td>0.0</td>\n",
       "      <td>2b8467d8dffc4f420052ae3feddf0d4a</td>\n",
       "      <td>78a441abe18f03758ccfa1a65d055841</td>\n",
       "      <td>None</td>\n",
       "      <td>NaN</td>\n",
       "      <td>None</td>\n",
       "      <td>None</td>\n",
       "      <td>None</td>\n",
       "    </tr>\n",
       "    <tr>\n",
       "      <th>1</th>\n",
       "      <td>2020-03-21 02:57:09</td>\n",
       "      <td>3d66a2183ccd73b86b7c9c9ba7ec82dd</td>\n",
       "      <td>e195aa19f28bc7835aa1a0bf295df2f1</td>\n",
       "      <td>category</td>\n",
       "      <td>NaN</td>\n",
       "      <td>0.0</td>\n",
       "      <td>23b916225b742ba69265f64fa2032144</td>\n",
       "      <td>8569057a87f6c616dfdac8ff35d47cb0</td>\n",
       "      <td>None</td>\n",
       "      <td>NaN</td>\n",
       "      <td>None</td>\n",
       "      <td>[6A4D46B89EBF7FCEED0CC74F00B89D64]</td>\n",
       "      <td>None</td>\n",
       "    </tr>\n",
       "    <tr>\n",
       "      <th>2</th>\n",
       "      <td>2020-03-21 02:22:08</td>\n",
       "      <td>4f8def2167aee81e50396674500e7367</td>\n",
       "      <td>e4c3c725ffb3f969c09d87183d8a93c8</td>\n",
       "      <td>category</td>\n",
       "      <td>NaN</td>\n",
       "      <td>0.0</td>\n",
       "      <td>09c847566aa9ca324f8d1c69d9414d74</td>\n",
       "      <td>d651eb8518bda8419433ce3e4f61a438</td>\n",
       "      <td>None</td>\n",
       "      <td>NaN</td>\n",
       "      <td>None</td>\n",
       "      <td>[EB45EC8149B8EAE211DD8BEDD560E92B]</td>\n",
       "      <td>None</td>\n",
       "    </tr>\n",
       "  </tbody>\n",
       "</table>\n",
       "</div>"
      ],
      "text/plain": [
       "                  date                      referrer_url  \\\n",
       "0  2020-03-21 02:03:50  fb79c9fb058c55d599b2c67a9cfe8d48   \n",
       "1  2020-03-21 02:57:09  3d66a2183ccd73b86b7c9c9ba7ec82dd   \n",
       "2  2020-03-21 02:22:08  4f8def2167aee81e50396674500e7367   \n",
       "\n",
       "                        current_url page_type  product_price  cart_amount  \\\n",
       "0  9d206cbddfddaa97c20690adcd6ea802      main            NaN          0.0   \n",
       "1  e195aa19f28bc7835aa1a0bf295df2f1  category            NaN          0.0   \n",
       "2  e4c3c725ffb3f969c09d87183d8a93c8  category            NaN          0.0   \n",
       "\n",
       "                             userid                         sessionid  \\\n",
       "0  2b8467d8dffc4f420052ae3feddf0d4a  78a441abe18f03758ccfa1a65d055841   \n",
       "1  23b916225b742ba69265f64fa2032144  8569057a87f6c616dfdac8ff35d47cb0   \n",
       "2  09c847566aa9ca324f8d1c69d9414d74  d651eb8518bda8419433ce3e4f61a438   \n",
       "\n",
       "  search_words  old_product_price product_category  \\\n",
       "0         None                NaN             None   \n",
       "1         None                NaN             None   \n",
       "2         None                NaN             None   \n",
       "\n",
       "                        page_category productid  \n",
       "0                                None      None  \n",
       "1  [6A4D46B89EBF7FCEED0CC74F00B89D64]      None  \n",
       "2  [EB45EC8149B8EAE211DD8BEDD560E92B]      None  "
      ]
     },
     "execution_count": 4,
     "metadata": {},
     "output_type": "execute_result"
    }
   ],
   "source": [
    "test.head(3)"
   ]
  },
  {
   "cell_type": "code",
   "execution_count": 5,
   "metadata": {},
   "outputs": [],
   "source": [
    "testid = test[\"userid\"]\n",
    "test = test.drop([\"userid\"],axis=1)\n"
   ]
  },
  {
   "cell_type": "code",
   "execution_count": 6,
   "metadata": {},
   "outputs": [],
   "source": [
    "train['date'] =  pd.to_datetime(train['date']).dt.normalize()"
   ]
  },
  {
   "cell_type": "code",
   "execution_count": 7,
   "metadata": {},
   "outputs": [],
   "source": [
    "grouped = train.groupby('userid')['date']\n",
    "train['second_lowest'] = grouped.transform(lambda x: x.nsmallest(2).max())"
   ]
  },
  {
   "cell_type": "code",
   "execution_count": 8,
   "metadata": {},
   "outputs": [
    {
     "data": {
      "text/plain": [
       "(211943, 14)"
      ]
     },
     "execution_count": 8,
     "metadata": {},
     "output_type": "execute_result"
    }
   ],
   "source": [
    "train = train.sort_values(\"date\",ascending=False)\n",
    "train2 = train.drop_duplicates(subset=\"userid\",keep=\"last\")\n",
    "train2.shape\n"
   ]
  },
  {
   "cell_type": "code",
   "execution_count": 9,
   "metadata": {},
   "outputs": [],
   "source": [
    "train2[\"diff\"] = (train2[\"second_lowest\"] - train2[\"date\"]).dt.days"
   ]
  },
  {
   "cell_type": "code",
   "execution_count": 10,
   "metadata": {},
   "outputs": [],
   "source": [
    "def f(row):\n",
    "    if row[\"diff\"] >= 8 :\n",
    "        val = 1\n",
    "    else:\n",
    "        val=0\n",
    "    return val\n",
    "\n",
    "train2[\"churn\"] = train2.apply(f,axis=1)"
   ]
  },
  {
   "cell_type": "code",
   "execution_count": 11,
   "metadata": {},
   "outputs": [
    {
     "data": {
      "text/plain": [
       "0    208118\n",
       "1      3825\n",
       "Name: churn, dtype: int64"
      ]
     },
     "execution_count": 11,
     "metadata": {},
     "output_type": "execute_result"
    }
   ],
   "source": [
    "train2.churn.value_counts()"
   ]
  },
  {
   "cell_type": "code",
   "execution_count": 12,
   "metadata": {},
   "outputs": [],
   "source": [
    "train2_not_churn = train2[train2.churn == 0]\n",
    "train2_churn = train2[train2.churn == 1]"
   ]
  },
  {
   "cell_type": "code",
   "execution_count": 14,
   "metadata": {},
   "outputs": [],
   "source": [
    "from sklearn.utils import resample\n",
    "\n",
    "\n",
    "train2_churn_upsampled = resample(train2_churn, \n",
    "                                 replace=True,     \n",
    "                                 n_samples=100000)"
   ]
  },
  {
   "cell_type": "code",
   "execution_count": 15,
   "metadata": {},
   "outputs": [],
   "source": [
    "new_train = pd.concat([train2_not_churn, train2_churn_upsampled])"
   ]
  },
  {
   "cell_type": "code",
   "execution_count": 16,
   "metadata": {},
   "outputs": [
    {
     "data": {
      "text/plain": [
       "0    208118\n",
       "1    100000\n",
       "Name: churn, dtype: int64"
      ]
     },
     "execution_count": 16,
     "metadata": {},
     "output_type": "execute_result"
    }
   ],
   "source": [
    "new_train.churn.value_counts()"
   ]
  },
  {
   "cell_type": "code",
   "execution_count": 17,
   "metadata": {},
   "outputs": [],
   "source": [
    "fulldata = pd.concat([new_train,test],axis=0)"
   ]
  },
  {
   "cell_type": "code",
   "execution_count": 18,
   "metadata": {},
   "outputs": [
    {
     "data": {
      "text/html": [
       "<div>\n",
       "<style scoped>\n",
       "    .dataframe tbody tr th:only-of-type {\n",
       "        vertical-align: middle;\n",
       "    }\n",
       "\n",
       "    .dataframe tbody tr th {\n",
       "        vertical-align: top;\n",
       "    }\n",
       "\n",
       "    .dataframe thead th {\n",
       "        text-align: right;\n",
       "    }\n",
       "</style>\n",
       "<table border=\"1\" class=\"dataframe\">\n",
       "  <thead>\n",
       "    <tr style=\"text-align: right;\">\n",
       "      <th></th>\n",
       "      <th>date</th>\n",
       "      <th>referrer_url</th>\n",
       "      <th>current_url</th>\n",
       "      <th>page_type</th>\n",
       "      <th>product_price</th>\n",
       "      <th>cart_amount</th>\n",
       "      <th>userid</th>\n",
       "      <th>sessionid</th>\n",
       "      <th>search_words</th>\n",
       "      <th>old_product_price</th>\n",
       "      <th>product_category</th>\n",
       "      <th>page_category</th>\n",
       "      <th>productid</th>\n",
       "      <th>second_lowest</th>\n",
       "      <th>diff</th>\n",
       "      <th>churn</th>\n",
       "    </tr>\n",
       "  </thead>\n",
       "  <tbody>\n",
       "    <tr>\n",
       "      <th>1202972</th>\n",
       "      <td>2020-02-27 00:00:00</td>\n",
       "      <td>434d75e1c05e2d5ac407296e521f2613</td>\n",
       "      <td>649d4b6c53ab2843a5b0e199ddea400c</td>\n",
       "      <td>main</td>\n",
       "      <td>NaN</td>\n",
       "      <td>0.0</td>\n",
       "      <td>406867f4d13f4d14613460c509a7e055</td>\n",
       "      <td>60309670f8c12949ccac9895817f78be</td>\n",
       "      <td>None</td>\n",
       "      <td>NaN</td>\n",
       "      <td>None</td>\n",
       "      <td>None</td>\n",
       "      <td>None</td>\n",
       "      <td>2020-02-27</td>\n",
       "      <td>0.0</td>\n",
       "      <td>0.0</td>\n",
       "    </tr>\n",
       "    <tr>\n",
       "      <th>1203071</th>\n",
       "      <td>2020-02-27 00:00:00</td>\n",
       "      <td>a0ccd46ef8dcd2416cb49dec3127dc72</td>\n",
       "      <td>aa5b6de2967900460ede9e2c0109e99e</td>\n",
       "      <td>category</td>\n",
       "      <td>NaN</td>\n",
       "      <td>0.0</td>\n",
       "      <td>2960428483b0724fad1b94f681b20b09</td>\n",
       "      <td>59457aec6ae8d73533959c567addb385</td>\n",
       "      <td>None</td>\n",
       "      <td>NaN</td>\n",
       "      <td>None</td>\n",
       "      <td>[B328A4F89E3374F0E4A7F823E6752E86]</td>\n",
       "      <td>None</td>\n",
       "      <td>2020-02-27</td>\n",
       "      <td>0.0</td>\n",
       "      <td>0.0</td>\n",
       "    </tr>\n",
       "  </tbody>\n",
       "</table>\n",
       "</div>"
      ],
      "text/plain": [
       "                        date                      referrer_url  \\\n",
       "1202972  2020-02-27 00:00:00  434d75e1c05e2d5ac407296e521f2613   \n",
       "1203071  2020-02-27 00:00:00  a0ccd46ef8dcd2416cb49dec3127dc72   \n",
       "\n",
       "                              current_url page_type  product_price  \\\n",
       "1202972  649d4b6c53ab2843a5b0e199ddea400c      main            NaN   \n",
       "1203071  aa5b6de2967900460ede9e2c0109e99e  category            NaN   \n",
       "\n",
       "         cart_amount                            userid  \\\n",
       "1202972          0.0  406867f4d13f4d14613460c509a7e055   \n",
       "1203071          0.0  2960428483b0724fad1b94f681b20b09   \n",
       "\n",
       "                                sessionid search_words  old_product_price  \\\n",
       "1202972  60309670f8c12949ccac9895817f78be         None                NaN   \n",
       "1203071  59457aec6ae8d73533959c567addb385         None                NaN   \n",
       "\n",
       "        product_category                       page_category productid  \\\n",
       "1202972             None                                None      None   \n",
       "1203071             None  [B328A4F89E3374F0E4A7F823E6752E86]      None   \n",
       "\n",
       "        second_lowest  diff  churn  \n",
       "1202972    2020-02-27   0.0    0.0  \n",
       "1203071    2020-02-27   0.0    0.0  "
      ]
     },
     "execution_count": 18,
     "metadata": {},
     "output_type": "execute_result"
    }
   ],
   "source": [
    "fulldata.head(2)"
   ]
  },
  {
   "cell_type": "code",
   "execution_count": 19,
   "metadata": {},
   "outputs": [],
   "source": [
    "dummies = pd.get_dummies(fulldata[\"page_type\"])\n",
    "fulldata = fulldata.drop([\"page_type\"],axis=1)\n",
    "fulldata = fulldata.drop([\"search_words\",\"product_category\",\"page_category\",\"productid\",\"referrer_url\",\"current_url\",\"sessionid\",\"second_lowest\",\"diff\"],axis=1)"
   ]
  },
  {
   "cell_type": "code",
   "execution_count": 158,
   "metadata": {},
   "outputs": [
    {
     "data": {
      "text/html": [
       "<div>\n",
       "<style scoped>\n",
       "    .dataframe tbody tr th:only-of-type {\n",
       "        vertical-align: middle;\n",
       "    }\n",
       "\n",
       "    .dataframe tbody tr th {\n",
       "        vertical-align: top;\n",
       "    }\n",
       "\n",
       "    .dataframe thead th {\n",
       "        text-align: right;\n",
       "    }\n",
       "</style>\n",
       "<table border=\"1\" class=\"dataframe\">\n",
       "  <thead>\n",
       "    <tr style=\"text-align: right;\">\n",
       "      <th></th>\n",
       "      <th>date</th>\n",
       "      <th>product_price</th>\n",
       "      <th>cart_amount</th>\n",
       "      <th>userid</th>\n",
       "      <th>old_product_price</th>\n",
       "      <th>churn</th>\n",
       "    </tr>\n",
       "  </thead>\n",
       "  <tbody>\n",
       "    <tr>\n",
       "      <th>1202972</th>\n",
       "      <td>2020-02-27 00:00:00</td>\n",
       "      <td>5.284000e+12</td>\n",
       "      <td>0.0</td>\n",
       "      <td>406867f4d13f4d14613460c509a7e055</td>\n",
       "      <td>1.137734e+08</td>\n",
       "      <td>0.0</td>\n",
       "    </tr>\n",
       "    <tr>\n",
       "      <th>1203071</th>\n",
       "      <td>2020-02-27 00:00:00</td>\n",
       "      <td>5.284000e+12</td>\n",
       "      <td>0.0</td>\n",
       "      <td>2960428483b0724fad1b94f681b20b09</td>\n",
       "      <td>1.137734e+08</td>\n",
       "      <td>0.0</td>\n",
       "    </tr>\n",
       "  </tbody>\n",
       "</table>\n",
       "</div>"
      ],
      "text/plain": [
       "                        date  product_price  cart_amount  \\\n",
       "1202972  2020-02-27 00:00:00   5.284000e+12          0.0   \n",
       "1203071  2020-02-27 00:00:00   5.284000e+12          0.0   \n",
       "\n",
       "                                   userid  old_product_price  churn  \n",
       "1202972  406867f4d13f4d14613460c509a7e055       1.137734e+08    0.0  \n",
       "1203071  2960428483b0724fad1b94f681b20b09       1.137734e+08    0.0  "
      ]
     },
     "execution_count": 158,
     "metadata": {},
     "output_type": "execute_result"
    }
   ],
   "source": [
    "fulldata.head(2)"
   ]
  },
  {
   "cell_type": "code",
   "execution_count": 20,
   "metadata": {},
   "outputs": [
    {
     "data": {
      "text/plain": [
       "date                      0\n",
       "product_price        360252\n",
       "cart_amount             285\n",
       "userid               177589\n",
       "old_product_price    364098\n",
       "churn                177589\n",
       "dtype: int64"
      ]
     },
     "execution_count": 20,
     "metadata": {},
     "output_type": "execute_result"
    }
   ],
   "source": [
    "fulldata.isnull().sum()"
   ]
  },
  {
   "cell_type": "code",
   "execution_count": 21,
   "metadata": {},
   "outputs": [
    {
     "data": {
      "text/plain": [
       "date                  object\n",
       "product_price        float64\n",
       "cart_amount          float64\n",
       "userid                object\n",
       "old_product_price    float64\n",
       "churn                float64\n",
       "dtype: object"
      ]
     },
     "execution_count": 21,
     "metadata": {},
     "output_type": "execute_result"
    }
   ],
   "source": [
    "fulldata.dtypes"
   ]
  },
  {
   "cell_type": "code",
   "execution_count": 22,
   "metadata": {},
   "outputs": [],
   "source": [
    "numeric_columns=fulldata.select_dtypes(include = [\"int64\",\"float64\"])\n",
    "for column in numeric_columns:\n",
    "      fulldata[column].fillna(fulldata[column].median(),inplace=True)\n"
   ]
  },
  {
   "cell_type": "code",
   "execution_count": 23,
   "metadata": {},
   "outputs": [
    {
     "data": {
      "text/plain": [
       "date                      0\n",
       "product_price             0\n",
       "cart_amount               0\n",
       "userid               177589\n",
       "old_product_price         0\n",
       "churn                     0\n",
       "dtype: int64"
      ]
     },
     "execution_count": 23,
     "metadata": {},
     "output_type": "execute_result"
    }
   ],
   "source": [
    "fulldata.isnull().sum()"
   ]
  },
  {
   "cell_type": "code",
   "execution_count": 24,
   "metadata": {},
   "outputs": [],
   "source": [
    "fulldata.drop([\"date\",\"userid\"],axis=1,inplace=True)"
   ]
  },
  {
   "cell_type": "code",
   "execution_count": 25,
   "metadata": {},
   "outputs": [
    {
     "data": {
      "text/plain": [
       "product_price        0\n",
       "cart_amount          0\n",
       "old_product_price    0\n",
       "churn                0\n",
       "dtype: int64"
      ]
     },
     "execution_count": 25,
     "metadata": {},
     "output_type": "execute_result"
    }
   ],
   "source": [
    "fulldata.isnull().sum()"
   ]
  },
  {
   "cell_type": "code",
   "execution_count": 26,
   "metadata": {},
   "outputs": [
    {
     "data": {
      "text/html": [
       "<div>\n",
       "<style scoped>\n",
       "    .dataframe tbody tr th:only-of-type {\n",
       "        vertical-align: middle;\n",
       "    }\n",
       "\n",
       "    .dataframe tbody tr th {\n",
       "        vertical-align: top;\n",
       "    }\n",
       "\n",
       "    .dataframe thead th {\n",
       "        text-align: right;\n",
       "    }\n",
       "</style>\n",
       "<table border=\"1\" class=\"dataframe\">\n",
       "  <thead>\n",
       "    <tr style=\"text-align: right;\">\n",
       "      <th></th>\n",
       "      <th>date</th>\n",
       "      <th>referrer_url</th>\n",
       "      <th>current_url</th>\n",
       "      <th>page_type</th>\n",
       "      <th>product_price</th>\n",
       "      <th>cart_amount</th>\n",
       "      <th>sessionid</th>\n",
       "      <th>search_words</th>\n",
       "      <th>old_product_price</th>\n",
       "      <th>product_category</th>\n",
       "      <th>page_category</th>\n",
       "      <th>productid</th>\n",
       "    </tr>\n",
       "  </thead>\n",
       "  <tbody>\n",
       "    <tr>\n",
       "      <th>0</th>\n",
       "      <td>2020-03-21 02:03:50</td>\n",
       "      <td>fb79c9fb058c55d599b2c67a9cfe8d48</td>\n",
       "      <td>9d206cbddfddaa97c20690adcd6ea802</td>\n",
       "      <td>main</td>\n",
       "      <td>NaN</td>\n",
       "      <td>0.0</td>\n",
       "      <td>78a441abe18f03758ccfa1a65d055841</td>\n",
       "      <td>None</td>\n",
       "      <td>NaN</td>\n",
       "      <td>None</td>\n",
       "      <td>None</td>\n",
       "      <td>None</td>\n",
       "    </tr>\n",
       "    <tr>\n",
       "      <th>1</th>\n",
       "      <td>2020-03-21 02:57:09</td>\n",
       "      <td>3d66a2183ccd73b86b7c9c9ba7ec82dd</td>\n",
       "      <td>e195aa19f28bc7835aa1a0bf295df2f1</td>\n",
       "      <td>category</td>\n",
       "      <td>NaN</td>\n",
       "      <td>0.0</td>\n",
       "      <td>8569057a87f6c616dfdac8ff35d47cb0</td>\n",
       "      <td>None</td>\n",
       "      <td>NaN</td>\n",
       "      <td>None</td>\n",
       "      <td>[6A4D46B89EBF7FCEED0CC74F00B89D64]</td>\n",
       "      <td>None</td>\n",
       "    </tr>\n",
       "  </tbody>\n",
       "</table>\n",
       "</div>"
      ],
      "text/plain": [
       "                  date                      referrer_url  \\\n",
       "0  2020-03-21 02:03:50  fb79c9fb058c55d599b2c67a9cfe8d48   \n",
       "1  2020-03-21 02:57:09  3d66a2183ccd73b86b7c9c9ba7ec82dd   \n",
       "\n",
       "                        current_url page_type  product_price  cart_amount  \\\n",
       "0  9d206cbddfddaa97c20690adcd6ea802      main            NaN          0.0   \n",
       "1  e195aa19f28bc7835aa1a0bf295df2f1  category            NaN          0.0   \n",
       "\n",
       "                          sessionid search_words  old_product_price  \\\n",
       "0  78a441abe18f03758ccfa1a65d055841         None                NaN   \n",
       "1  8569057a87f6c616dfdac8ff35d47cb0         None                NaN   \n",
       "\n",
       "  product_category                       page_category productid  \n",
       "0             None                                None      None  \n",
       "1             None  [6A4D46B89EBF7FCEED0CC74F00B89D64]      None  "
      ]
     },
     "execution_count": 26,
     "metadata": {},
     "output_type": "execute_result"
    }
   ],
   "source": [
    "test.head(2)"
   ]
  },
  {
   "cell_type": "code",
   "execution_count": 27,
   "metadata": {},
   "outputs": [],
   "source": [
    "train = new_train.drop([\"userid\"],axis=1)\n"
   ]
  },
  {
   "cell_type": "code",
   "execution_count": 28,
   "metadata": {},
   "outputs": [
    {
     "data": {
      "text/html": [
       "<div>\n",
       "<style scoped>\n",
       "    .dataframe tbody tr th:only-of-type {\n",
       "        vertical-align: middle;\n",
       "    }\n",
       "\n",
       "    .dataframe tbody tr th {\n",
       "        vertical-align: top;\n",
       "    }\n",
       "\n",
       "    .dataframe thead th {\n",
       "        text-align: right;\n",
       "    }\n",
       "</style>\n",
       "<table border=\"1\" class=\"dataframe\">\n",
       "  <thead>\n",
       "    <tr style=\"text-align: right;\">\n",
       "      <th></th>\n",
       "      <th>date</th>\n",
       "      <th>referrer_url</th>\n",
       "      <th>current_url</th>\n",
       "      <th>page_type</th>\n",
       "      <th>product_price</th>\n",
       "      <th>cart_amount</th>\n",
       "      <th>sessionid</th>\n",
       "      <th>search_words</th>\n",
       "      <th>old_product_price</th>\n",
       "      <th>product_category</th>\n",
       "      <th>page_category</th>\n",
       "      <th>productid</th>\n",
       "      <th>second_lowest</th>\n",
       "      <th>diff</th>\n",
       "      <th>churn</th>\n",
       "    </tr>\n",
       "  </thead>\n",
       "  <tbody>\n",
       "    <tr>\n",
       "      <th>1202972</th>\n",
       "      <td>2020-02-27</td>\n",
       "      <td>434d75e1c05e2d5ac407296e521f2613</td>\n",
       "      <td>649d4b6c53ab2843a5b0e199ddea400c</td>\n",
       "      <td>main</td>\n",
       "      <td>NaN</td>\n",
       "      <td>0.0</td>\n",
       "      <td>60309670f8c12949ccac9895817f78be</td>\n",
       "      <td>None</td>\n",
       "      <td>NaN</td>\n",
       "      <td>None</td>\n",
       "      <td>None</td>\n",
       "      <td>None</td>\n",
       "      <td>2020-02-27</td>\n",
       "      <td>0</td>\n",
       "      <td>0</td>\n",
       "    </tr>\n",
       "    <tr>\n",
       "      <th>1203071</th>\n",
       "      <td>2020-02-27</td>\n",
       "      <td>a0ccd46ef8dcd2416cb49dec3127dc72</td>\n",
       "      <td>aa5b6de2967900460ede9e2c0109e99e</td>\n",
       "      <td>category</td>\n",
       "      <td>NaN</td>\n",
       "      <td>0.0</td>\n",
       "      <td>59457aec6ae8d73533959c567addb385</td>\n",
       "      <td>None</td>\n",
       "      <td>NaN</td>\n",
       "      <td>None</td>\n",
       "      <td>[B328A4F89E3374F0E4A7F823E6752E86]</td>\n",
       "      <td>None</td>\n",
       "      <td>2020-02-27</td>\n",
       "      <td>0</td>\n",
       "      <td>0</td>\n",
       "    </tr>\n",
       "  </tbody>\n",
       "</table>\n",
       "</div>"
      ],
      "text/plain": [
       "              date                      referrer_url  \\\n",
       "1202972 2020-02-27  434d75e1c05e2d5ac407296e521f2613   \n",
       "1203071 2020-02-27  a0ccd46ef8dcd2416cb49dec3127dc72   \n",
       "\n",
       "                              current_url page_type  product_price  \\\n",
       "1202972  649d4b6c53ab2843a5b0e199ddea400c      main            NaN   \n",
       "1203071  aa5b6de2967900460ede9e2c0109e99e  category            NaN   \n",
       "\n",
       "         cart_amount                         sessionid search_words  \\\n",
       "1202972          0.0  60309670f8c12949ccac9895817f78be         None   \n",
       "1203071          0.0  59457aec6ae8d73533959c567addb385         None   \n",
       "\n",
       "         old_product_price product_category  \\\n",
       "1202972                NaN             None   \n",
       "1203071                NaN             None   \n",
       "\n",
       "                              page_category productid second_lowest  diff  \\\n",
       "1202972                                None      None    2020-02-27     0   \n",
       "1203071  [B328A4F89E3374F0E4A7F823E6752E86]      None    2020-02-27     0   \n",
       "\n",
       "         churn  \n",
       "1202972      0  \n",
       "1203071      0  "
      ]
     },
     "execution_count": 28,
     "metadata": {},
     "output_type": "execute_result"
    }
   ],
   "source": [
    "train.head(2)"
   ]
  },
  {
   "cell_type": "code",
   "execution_count": 29,
   "metadata": {},
   "outputs": [],
   "source": [
    "df = pd.concat([fulldata,dummies],axis=1)"
   ]
  },
  {
   "cell_type": "code",
   "execution_count": 30,
   "metadata": {},
   "outputs": [],
   "source": [
    "train_len = len(new_train)\n",
    "train = df[:train_len]\n",
    "test = df[train_len:]\n"
   ]
  },
  {
   "cell_type": "code",
   "execution_count": 31,
   "metadata": {},
   "outputs": [
    {
     "data": {
      "text/html": [
       "<div>\n",
       "<style scoped>\n",
       "    .dataframe tbody tr th:only-of-type {\n",
       "        vertical-align: middle;\n",
       "    }\n",
       "\n",
       "    .dataframe tbody tr th {\n",
       "        vertical-align: top;\n",
       "    }\n",
       "\n",
       "    .dataframe thead th {\n",
       "        text-align: right;\n",
       "    }\n",
       "</style>\n",
       "<table border=\"1\" class=\"dataframe\">\n",
       "  <thead>\n",
       "    <tr style=\"text-align: right;\">\n",
       "      <th></th>\n",
       "      <th>product_price</th>\n",
       "      <th>cart_amount</th>\n",
       "      <th>old_product_price</th>\n",
       "      <th>churn</th>\n",
       "      <th>cart</th>\n",
       "      <th>category</th>\n",
       "      <th>main</th>\n",
       "      <th>other</th>\n",
       "      <th>productDetail</th>\n",
       "      <th>success</th>\n",
       "    </tr>\n",
       "  </thead>\n",
       "  <tbody>\n",
       "    <tr>\n",
       "      <th>1202972</th>\n",
       "      <td>350000.0</td>\n",
       "      <td>0.0</td>\n",
       "      <td>415000.0</td>\n",
       "      <td>0.0</td>\n",
       "      <td>0</td>\n",
       "      <td>0</td>\n",
       "      <td>1</td>\n",
       "      <td>0</td>\n",
       "      <td>0</td>\n",
       "      <td>0</td>\n",
       "    </tr>\n",
       "    <tr>\n",
       "      <th>1203071</th>\n",
       "      <td>350000.0</td>\n",
       "      <td>0.0</td>\n",
       "      <td>415000.0</td>\n",
       "      <td>0.0</td>\n",
       "      <td>0</td>\n",
       "      <td>1</td>\n",
       "      <td>0</td>\n",
       "      <td>0</td>\n",
       "      <td>0</td>\n",
       "      <td>0</td>\n",
       "    </tr>\n",
       "  </tbody>\n",
       "</table>\n",
       "</div>"
      ],
      "text/plain": [
       "         product_price  cart_amount  old_product_price  churn  cart  category  \\\n",
       "1202972       350000.0          0.0           415000.0    0.0     0         0   \n",
       "1203071       350000.0          0.0           415000.0    0.0     0         1   \n",
       "\n",
       "         main  other  productDetail  success  \n",
       "1202972     1      0              0        0  \n",
       "1203071     0      0              0        0  "
      ]
     },
     "execution_count": 31,
     "metadata": {},
     "output_type": "execute_result"
    }
   ],
   "source": [
    "train.head(2)"
   ]
  },
  {
   "cell_type": "code",
   "execution_count": 32,
   "metadata": {},
   "outputs": [
    {
     "data": {
      "text/html": [
       "<div>\n",
       "<style scoped>\n",
       "    .dataframe tbody tr th:only-of-type {\n",
       "        vertical-align: middle;\n",
       "    }\n",
       "\n",
       "    .dataframe tbody tr th {\n",
       "        vertical-align: top;\n",
       "    }\n",
       "\n",
       "    .dataframe thead th {\n",
       "        text-align: right;\n",
       "    }\n",
       "</style>\n",
       "<table border=\"1\" class=\"dataframe\">\n",
       "  <thead>\n",
       "    <tr style=\"text-align: right;\">\n",
       "      <th></th>\n",
       "      <th>product_price</th>\n",
       "      <th>cart_amount</th>\n",
       "      <th>old_product_price</th>\n",
       "      <th>churn</th>\n",
       "      <th>cart</th>\n",
       "      <th>category</th>\n",
       "      <th>main</th>\n",
       "      <th>other</th>\n",
       "      <th>productDetail</th>\n",
       "      <th>success</th>\n",
       "    </tr>\n",
       "  </thead>\n",
       "  <tbody>\n",
       "    <tr>\n",
       "      <th>0</th>\n",
       "      <td>350000.0</td>\n",
       "      <td>0.0</td>\n",
       "      <td>415000.0</td>\n",
       "      <td>0.0</td>\n",
       "      <td>0</td>\n",
       "      <td>0</td>\n",
       "      <td>1</td>\n",
       "      <td>0</td>\n",
       "      <td>0</td>\n",
       "      <td>0</td>\n",
       "    </tr>\n",
       "    <tr>\n",
       "      <th>1</th>\n",
       "      <td>350000.0</td>\n",
       "      <td>0.0</td>\n",
       "      <td>415000.0</td>\n",
       "      <td>0.0</td>\n",
       "      <td>0</td>\n",
       "      <td>1</td>\n",
       "      <td>0</td>\n",
       "      <td>0</td>\n",
       "      <td>0</td>\n",
       "      <td>0</td>\n",
       "    </tr>\n",
       "  </tbody>\n",
       "</table>\n",
       "</div>"
      ],
      "text/plain": [
       "   product_price  cart_amount  old_product_price  churn  cart  category  main  \\\n",
       "0       350000.0          0.0           415000.0    0.0     0         0     1   \n",
       "1       350000.0          0.0           415000.0    0.0     0         1     0   \n",
       "\n",
       "   other  productDetail  success  \n",
       "0      0              0        0  \n",
       "1      0              0        0  "
      ]
     },
     "execution_count": 32,
     "metadata": {},
     "output_type": "execute_result"
    }
   ],
   "source": [
    "test.head(2)"
   ]
  },
  {
   "cell_type": "code",
   "execution_count": 33,
   "metadata": {},
   "outputs": [],
   "source": [
    "test.drop([\"churn\"],axis=1,inplace=True)"
   ]
  },
  {
   "cell_type": "code",
   "execution_count": 34,
   "metadata": {},
   "outputs": [],
   "source": [
    "y = train.churn.values\n",
    "x = train.drop([\"churn\"],axis=1)\n",
    "x_train,x_test,y_train,y_test = train_test_split(x,y,test_size=0.20)\n"
   ]
  },
  {
   "cell_type": "code",
   "execution_count": 36,
   "metadata": {},
   "outputs": [
    {
     "name": "stdout",
     "output_type": "stream",
     "text": [
      "XGBClassifier --->  accuracy : 68.03% \n",
      "LGBMClassifier --->  accuracy : 68.02% \n",
      "RandomForestClassifier --->  accuracy : 68.04% \n",
      "MLPClassifier --->  accuracy : 34.27% \n"
     ]
    }
   ],
   "source": [
    "xgb = XGBClassifier().fit(x_train,y_train)\n",
    "lightgbm = LGBMClassifier().fit(x_train,y_train)\n",
    "randomforest = RandomForestClassifier().fit(x_train,y_train)\n",
    "neural = MLPClassifier().fit(x_train,y_train)\n",
    "modeller = [xgb,lightgbm,randomforest,neural]\n",
    "\n",
    "for model in modeller:\n",
    "    isimler = model.__class__.__name__\n",
    "    pred = model.predict(x_test)\n",
    "    acc = accuracy_score(pred,y_test)\n",
    "    print(isimler + \" ---> \" + \" accuracy : {:.2%} \".format(acc))\n",
    "\n"
   ]
  }
 ],
 "metadata": {
  "kernelspec": {
   "display_name": "Python 3",
   "language": "python",
   "name": "python3"
  },
  "language_info": {
   "codemirror_mode": {
    "name": "ipython",
    "version": 3
   },
   "file_extension": ".py",
   "mimetype": "text/x-python",
   "name": "python",
   "nbconvert_exporter": "python",
   "pygments_lexer": "ipython3",
   "version": "3.7.6"
  }
 },
 "nbformat": 4,
 "nbformat_minor": 4
}
